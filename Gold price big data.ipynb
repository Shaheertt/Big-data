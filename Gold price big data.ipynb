{
 "cells": [
  {
   "cell_type": "markdown",
   "id": "48102355",
   "metadata": {},
   "source": [
    "# <span style = \"color: green\" >Gold Price Prediction</span>"
   ]
  },
  {
   "cell_type": "markdown",
   "id": "2e972c7b",
   "metadata": {},
   "source": [
    "***"
   ]
  },
  {
   "cell_type": "markdown",
   "id": "7c57d13c",
   "metadata": {},
   "source": [
    "Of all the precious metals, gold is the most popular as an investment. Investors generally buy gold as a way of diversifying risk, especially through the use of futures contracts and derivatives. The gold market is subject to speculation and volatility as are other markets. Compared to other precious metals used for investment, gold has been the most effective safe haven across a number of countries.<br><br>\n",
    "The Dataset contain gold prices (in USD) from 2001 to 2019.\n",
    "Our goal is to predict where the gold prices will be in the coming years"
   ]
  },
  {
   "cell_type": "markdown",
   "id": "9ab4112a",
   "metadata": {},
   "source": [
    "#### Import the necessary libraries"
   ]
  },
  {
   "cell_type": "code",
   "execution_count": 1,
   "id": "7276cdfc",
   "metadata": {},
   "outputs": [],
   "source": [
    "import pyspark\n",
    "from pyspark.sql import SparkSession\n",
    "from pyspark.ml.feature import VectorAssembler\n",
    "from pyspark.ml.regression import LinearRegression"
   ]
  },
  {
   "cell_type": "markdown",
   "id": "9f81002c",
   "metadata": {},
   "source": [
    "#### Read 'gold_price_usd.csv' & store it in a variable"
   ]
  },
  {
   "cell_type": "code",
   "execution_count": 2,
   "id": "a30f95a1",
   "metadata": {},
   "outputs": [],
   "source": [
    "spark=SparkSession.builder.appName('gold_price').getOrCreate()"
   ]
  },
  {
   "cell_type": "code",
   "execution_count": 3,
   "id": "5aa7a008",
   "metadata": {},
   "outputs": [],
   "source": [
    "df=spark.read.csv('gold_price_usd.csv',header=True,inferSchema=True)"
   ]
  },
  {
   "cell_type": "code",
   "execution_count": 4,
   "id": "fb86f8c7",
   "metadata": {},
   "outputs": [
    {
     "name": "stdout",
     "output_type": "stream",
     "text": [
      "+----------+--------+\n",
      "|      Date|USD (AM)|\n",
      "+----------+--------+\n",
      "|2001-01-02|   272.8|\n",
      "|2001-01-03|   269.0|\n",
      "|2001-01-04|  268.75|\n",
      "|2001-01-05|   268.0|\n",
      "|2001-01-08|   268.6|\n",
      "|2001-01-09|  267.75|\n",
      "|2001-01-10|   266.7|\n",
      "|2001-01-11|   264.8|\n",
      "|2001-01-12|  263.65|\n",
      "|2001-01-15|  263.35|\n",
      "|2001-01-16|   264.5|\n",
      "|2001-01-17|   263.1|\n",
      "|2001-01-18|   264.1|\n",
      "|2001-01-19|  265.75|\n",
      "|2001-01-22|   266.1|\n",
      "|2001-01-23|   267.1|\n",
      "|2001-01-24|   265.7|\n",
      "|2001-01-25|   263.6|\n",
      "|2001-01-26|   264.5|\n",
      "|2001-01-29|   263.1|\n",
      "+----------+--------+\n",
      "only showing top 20 rows\n",
      "\n"
     ]
    }
   ],
   "source": [
    "df.show()"
   ]
  },
  {
   "cell_type": "markdown",
   "id": "660c1f06",
   "metadata": {},
   "source": [
    "#### View the first 5 rows"
   ]
  },
  {
   "cell_type": "code",
   "execution_count": 5,
   "id": "d2cfe6f1",
   "metadata": {},
   "outputs": [
    {
     "data": {
      "text/plain": [
       "[Row(Date=datetime.date(2001, 1, 2), USD (AM)=272.8),\n",
       " Row(Date=datetime.date(2001, 1, 3), USD (AM)=269.0),\n",
       " Row(Date=datetime.date(2001, 1, 4), USD (AM)=268.75),\n",
       " Row(Date=datetime.date(2001, 1, 5), USD (AM)=268.0),\n",
       " Row(Date=datetime.date(2001, 1, 8), USD (AM)=268.6)]"
      ]
     },
     "execution_count": 5,
     "metadata": {},
     "output_type": "execute_result"
    }
   ],
   "source": [
    "df.head(5)"
   ]
  },
  {
   "cell_type": "markdown",
   "id": "b660ee82",
   "metadata": {},
   "source": [
    "#### Check the information"
   ]
  },
  {
   "cell_type": "code",
   "execution_count": 6,
   "id": "06b22f46",
   "metadata": {},
   "outputs": [
    {
     "name": "stdout",
     "output_type": "stream",
     "text": [
      "root\n",
      " |-- Date: date (nullable = true)\n",
      " |-- USD (AM): double (nullable = true)\n",
      "\n"
     ]
    }
   ],
   "source": [
    "df.printSchema()"
   ]
  },
  {
   "cell_type": "markdown",
   "id": "8f82c0da",
   "metadata": {},
   "source": [
    "#### Find the columns"
   ]
  },
  {
   "cell_type": "code",
   "execution_count": 7,
   "id": "78b35416",
   "metadata": {},
   "outputs": [
    {
     "data": {
      "text/plain": [
       "['Date', 'USD (AM)']"
      ]
     },
     "execution_count": 7,
     "metadata": {},
     "output_type": "execute_result"
    }
   ],
   "source": [
    "df.columns"
   ]
  },
  {
   "cell_type": "markdown",
   "id": "33d9321f",
   "metadata": {},
   "source": [
    "#### Rename USD (AM) to Price"
   ]
  },
  {
   "cell_type": "code",
   "execution_count": 8,
   "id": "dc257ede",
   "metadata": {},
   "outputs": [],
   "source": [
    "df=df.withColumnRenamed('USD (AM)','Price')"
   ]
  },
  {
   "cell_type": "markdown",
   "id": "0e7710f8",
   "metadata": {},
   "source": [
    "#### Check if there are any missing values in the dataset"
   ]
  },
  {
   "cell_type": "markdown",
   "id": "6ba55458",
   "metadata": {},
   "source": [
    "#### Gather the basic statistical information about the dataset"
   ]
  },
  {
   "cell_type": "code",
   "execution_count": 9,
   "id": "ccbbf510",
   "metadata": {},
   "outputs": [
    {
     "name": "stdout",
     "output_type": "stream",
     "text": [
      "+-------+------------------+\n",
      "|summary|             Price|\n",
      "+-------+------------------+\n",
      "|  count|              4718|\n",
      "|   mean| 959.9908117846536|\n",
      "| stddev|449.45621658549334|\n",
      "|    min|             256.7|\n",
      "|    max|            1896.5|\n",
      "+-------+------------------+\n",
      "\n"
     ]
    }
   ],
   "source": [
    "df.describe().show()"
   ]
  },
  {
   "cell_type": "markdown",
   "id": "8ad500ad",
   "metadata": {},
   "source": [
    "#### Convert Date column from object to datetime format"
   ]
  },
  {
   "cell_type": "code",
   "execution_count": null,
   "id": "a756e4c3",
   "metadata": {},
   "outputs": [],
   "source": []
  },
  {
   "cell_type": "markdown",
   "id": "073a58d3",
   "metadata": {},
   "source": [
    "#### Create a new column with Year"
   ]
  },
  {
   "cell_type": "code",
   "execution_count": 10,
   "id": "d37bda6b",
   "metadata": {},
   "outputs": [],
   "source": [
    "df1=df.withColumn('Year',df['Date'][0:4])"
   ]
  },
  {
   "cell_type": "code",
   "execution_count": 11,
   "id": "b4f58af2",
   "metadata": {},
   "outputs": [
    {
     "name": "stdout",
     "output_type": "stream",
     "text": [
      "+----------+------+----+\n",
      "|      Date| Price|Year|\n",
      "+----------+------+----+\n",
      "|2001-01-02| 272.8|2001|\n",
      "|2001-01-03| 269.0|2001|\n",
      "|2001-01-04|268.75|2001|\n",
      "|2001-01-05| 268.0|2001|\n",
      "|2001-01-08| 268.6|2001|\n",
      "|2001-01-09|267.75|2001|\n",
      "|2001-01-10| 266.7|2001|\n",
      "|2001-01-11| 264.8|2001|\n",
      "|2001-01-12|263.65|2001|\n",
      "|2001-01-15|263.35|2001|\n",
      "|2001-01-16| 264.5|2001|\n",
      "|2001-01-17| 263.1|2001|\n",
      "|2001-01-18| 264.1|2001|\n",
      "|2001-01-19|265.75|2001|\n",
      "|2001-01-22| 266.1|2001|\n",
      "|2001-01-23| 267.1|2001|\n",
      "|2001-01-24| 265.7|2001|\n",
      "|2001-01-25| 263.6|2001|\n",
      "|2001-01-26| 264.5|2001|\n",
      "|2001-01-29| 263.1|2001|\n",
      "+----------+------+----+\n",
      "only showing top 20 rows\n",
      "\n"
     ]
    }
   ],
   "source": [
    "df1.show()"
   ]
  },
  {
   "cell_type": "code",
   "execution_count": 12,
   "id": "cf5d505d",
   "metadata": {},
   "outputs": [],
   "source": [
    "from pyspark.sql.functions import year,month"
   ]
  },
  {
   "cell_type": "code",
   "execution_count": 13,
   "id": "1a59721f",
   "metadata": {},
   "outputs": [],
   "source": [
    "df=df.withColumn('Year',year(df['Date']))"
   ]
  },
  {
   "cell_type": "code",
   "execution_count": 14,
   "id": "28b9f8fd",
   "metadata": {},
   "outputs": [
    {
     "name": "stdout",
     "output_type": "stream",
     "text": [
      "+----------+------+----+\n",
      "|      Date| Price|Year|\n",
      "+----------+------+----+\n",
      "|2001-01-02| 272.8|2001|\n",
      "|2001-01-03| 269.0|2001|\n",
      "|2001-01-04|268.75|2001|\n",
      "|2001-01-05| 268.0|2001|\n",
      "|2001-01-08| 268.6|2001|\n",
      "|2001-01-09|267.75|2001|\n",
      "|2001-01-10| 266.7|2001|\n",
      "|2001-01-11| 264.8|2001|\n",
      "|2001-01-12|263.65|2001|\n",
      "|2001-01-15|263.35|2001|\n",
      "|2001-01-16| 264.5|2001|\n",
      "|2001-01-17| 263.1|2001|\n",
      "|2001-01-18| 264.1|2001|\n",
      "|2001-01-19|265.75|2001|\n",
      "|2001-01-22| 266.1|2001|\n",
      "|2001-01-23| 267.1|2001|\n",
      "|2001-01-24| 265.7|2001|\n",
      "|2001-01-25| 263.6|2001|\n",
      "|2001-01-26| 264.5|2001|\n",
      "|2001-01-29| 263.1|2001|\n",
      "+----------+------+----+\n",
      "only showing top 20 rows\n",
      "\n"
     ]
    }
   ],
   "source": [
    "df.show()"
   ]
  },
  {
   "cell_type": "markdown",
   "id": "9177126f",
   "metadata": {},
   "source": [
    "#### Create a new column with Months"
   ]
  },
  {
   "cell_type": "code",
   "execution_count": 15,
   "id": "a5532c85",
   "metadata": {},
   "outputs": [],
   "source": [
    "df=df.withColumn('Month',month(df['Date']))"
   ]
  },
  {
   "cell_type": "code",
   "execution_count": 16,
   "id": "43df00b7",
   "metadata": {},
   "outputs": [
    {
     "name": "stdout",
     "output_type": "stream",
     "text": [
      "+----------+------+----+-----+\n",
      "|      Date| Price|Year|Month|\n",
      "+----------+------+----+-----+\n",
      "|2001-01-02| 272.8|2001|    1|\n",
      "|2001-01-03| 269.0|2001|    1|\n",
      "|2001-01-04|268.75|2001|    1|\n",
      "|2001-01-05| 268.0|2001|    1|\n",
      "|2001-01-08| 268.6|2001|    1|\n",
      "|2001-01-09|267.75|2001|    1|\n",
      "|2001-01-10| 266.7|2001|    1|\n",
      "|2001-01-11| 264.8|2001|    1|\n",
      "|2001-01-12|263.65|2001|    1|\n",
      "|2001-01-15|263.35|2001|    1|\n",
      "|2001-01-16| 264.5|2001|    1|\n",
      "|2001-01-17| 263.1|2001|    1|\n",
      "|2001-01-18| 264.1|2001|    1|\n",
      "|2001-01-19|265.75|2001|    1|\n",
      "|2001-01-22| 266.1|2001|    1|\n",
      "|2001-01-23| 267.1|2001|    1|\n",
      "|2001-01-24| 265.7|2001|    1|\n",
      "|2001-01-25| 263.6|2001|    1|\n",
      "|2001-01-26| 264.5|2001|    1|\n",
      "|2001-01-29| 263.1|2001|    1|\n",
      "+----------+------+----+-----+\n",
      "only showing top 20 rows\n",
      "\n"
     ]
    }
   ],
   "source": [
    "df.show()"
   ]
  },
  {
   "cell_type": "markdown",
   "id": "107fd613",
   "metadata": {},
   "source": [
    "#### See all the years and Months in our dataset"
   ]
  },
  {
   "cell_type": "code",
   "execution_count": 17,
   "id": "c26e45e9",
   "metadata": {},
   "outputs": [
    {
     "name": "stdout",
     "output_type": "stream",
     "text": [
      "+-----+\n",
      "|Month|\n",
      "+-----+\n",
      "|   12|\n",
      "|    1|\n",
      "|    6|\n",
      "|    3|\n",
      "|    5|\n",
      "|    9|\n",
      "|    4|\n",
      "|    8|\n",
      "|    7|\n",
      "|   10|\n",
      "|   11|\n",
      "|    2|\n",
      "+-----+\n",
      "\n",
      "+----+\n",
      "|Year|\n",
      "+----+\n",
      "|2003|\n",
      "|2007|\n",
      "|2018|\n",
      "|2015|\n",
      "|2006|\n",
      "|2013|\n",
      "|2014|\n",
      "|2019|\n",
      "|2004|\n",
      "|2012|\n",
      "|2009|\n",
      "|2016|\n",
      "|2001|\n",
      "|2005|\n",
      "|2010|\n",
      "|2011|\n",
      "|2008|\n",
      "|2017|\n",
      "|2002|\n",
      "+----+\n",
      "\n"
     ]
    }
   ],
   "source": [
    "df.select('Month').distinct().show()\n",
    "df.select('Year').distinct().show()"
   ]
  },
  {
   "cell_type": "markdown",
   "id": "c9dbda58",
   "metadata": {},
   "source": [
    "## <span style = \"color: orange\" >Visualization</span>"
   ]
  },
  {
   "cell_type": "markdown",
   "id": "680fae97",
   "metadata": {},
   "source": [
    "### Create a regression plot with x-axis as years and y-axis as Price"
   ]
  },
  {
   "cell_type": "code",
   "execution_count": null,
   "id": "feef09c3",
   "metadata": {},
   "outputs": [],
   "source": []
  },
  {
   "cell_type": "markdown",
   "id": "87a1fe81",
   "metadata": {},
   "source": [
    "### Plot a histplot to find the variation in price"
   ]
  },
  {
   "cell_type": "code",
   "execution_count": null,
   "id": "6dd93591",
   "metadata": {},
   "outputs": [],
   "source": []
  },
  {
   "cell_type": "markdown",
   "id": "6c2a2c75",
   "metadata": {},
   "source": [
    "### Assign year and price in x and y variables"
   ]
  },
  {
   "cell_type": "code",
   "execution_count": 29,
   "id": "ccb35568",
   "metadata": {},
   "outputs": [],
   "source": [
    "\n",
    "assembler = VectorAssembler(inputCols=[\"Year\"], outputCol=\"YearVector\")\n",
    "df = assembler.transform(df)\n"
   ]
  },
  {
   "cell_type": "markdown",
   "id": "56d9d00f",
   "metadata": {},
   "source": [
    "### Split the data into traning and testin set"
   ]
  },
  {
   "cell_type": "code",
   "execution_count": 38,
   "id": "703c5fd8",
   "metadata": {},
   "outputs": [
    {
     "name": "stdout",
     "output_type": "stream",
     "text": [
      "+----------+------+\n",
      "|YearVector| Price|\n",
      "+----------+------+\n",
      "|  [2001.0]| 272.8|\n",
      "|  [2001.0]| 269.0|\n",
      "|  [2001.0]|268.75|\n",
      "|  [2001.0]| 268.0|\n",
      "|  [2001.0]| 268.6|\n",
      "|  [2001.0]|267.75|\n",
      "|  [2001.0]| 266.7|\n",
      "|  [2001.0]| 264.8|\n",
      "|  [2001.0]|263.65|\n",
      "|  [2001.0]|263.35|\n",
      "|  [2001.0]| 264.5|\n",
      "|  [2001.0]| 263.1|\n",
      "|  [2001.0]| 264.1|\n",
      "|  [2001.0]|265.75|\n",
      "|  [2001.0]| 266.1|\n",
      "|  [2001.0]| 267.1|\n",
      "|  [2001.0]| 265.7|\n",
      "|  [2001.0]| 263.6|\n",
      "|  [2001.0]| 264.5|\n",
      "|  [2001.0]| 263.1|\n",
      "+----------+------+\n",
      "only showing top 20 rows\n",
      "\n"
     ]
    }
   ],
   "source": [
    "final=df.select('YearVector','Price')\n",
    "final.show()"
   ]
  },
  {
   "cell_type": "code",
   "execution_count": 39,
   "id": "1bbd8961",
   "metadata": {},
   "outputs": [],
   "source": [
    "train_data,test_data=final.randomSplit([0.80,0.20])"
   ]
  },
  {
   "cell_type": "code",
   "execution_count": 40,
   "id": "2a550d1a",
   "metadata": {},
   "outputs": [
    {
     "name": "stdout",
     "output_type": "stream",
     "text": [
      "+----------+------+\n",
      "|YearVector| Price|\n",
      "+----------+------+\n",
      "|  [2001.0]| 257.0|\n",
      "|  [2001.0]| 257.3|\n",
      "|  [2001.0]|257.55|\n",
      "|  [2001.0]| 258.0|\n",
      "|  [2001.0]| 258.1|\n",
      "|  [2001.0]| 258.2|\n",
      "|  [2001.0]| 258.3|\n",
      "|  [2001.0]|259.05|\n",
      "|  [2001.0]| 259.2|\n",
      "|  [2001.0]| 259.4|\n",
      "|  [2001.0]| 259.5|\n",
      "|  [2001.0]|259.95|\n",
      "|  [2001.0]| 260.1|\n",
      "|  [2001.0]| 260.2|\n",
      "|  [2001.0]| 260.2|\n",
      "|  [2001.0]| 260.5|\n",
      "|  [2001.0]| 260.9|\n",
      "|  [2001.0]| 260.9|\n",
      "|  [2001.0]| 260.9|\n",
      "|  [2001.0]| 261.2|\n",
      "+----------+------+\n",
      "only showing top 20 rows\n",
      "\n"
     ]
    }
   ],
   "source": [
    "train_data.show()"
   ]
  },
  {
   "cell_type": "code",
   "execution_count": 41,
   "id": "e41d7ef8",
   "metadata": {},
   "outputs": [
    {
     "name": "stdout",
     "output_type": "stream",
     "text": [
      "+----------+------+\n",
      "|YearVector| Price|\n",
      "+----------+------+\n",
      "|  [2001.0]| 256.7|\n",
      "|  [2001.0]|257.05|\n",
      "|  [2001.0]|258.45|\n",
      "|  [2001.0]|258.95|\n",
      "|  [2001.0]| 260.5|\n",
      "|  [2001.0]|262.15|\n",
      "|  [2001.0]| 262.8|\n",
      "|  [2001.0]| 262.9|\n",
      "|  [2001.0]| 262.9|\n",
      "|  [2001.0]|263.35|\n",
      "|  [2001.0]|263.65|\n",
      "|  [2001.0]| 264.5|\n",
      "|  [2001.0]|265.55|\n",
      "|  [2001.0]| 266.1|\n",
      "|  [2001.0]| 266.4|\n",
      "|  [2001.0]| 266.4|\n",
      "|  [2001.0]|266.85|\n",
      "|  [2001.0]|266.85|\n",
      "|  [2001.0]|266.95|\n",
      "|  [2001.0]| 267.2|\n",
      "|  [2001.0]| 267.5|\n",
      "|  [2001.0]| 267.7|\n",
      "|  [2001.0]| 268.0|\n",
      "|  [2001.0]|268.75|\n",
      "|  [2001.0]| 269.0|\n",
      "+----------+------+\n",
      "only showing top 25 rows\n",
      "\n"
     ]
    }
   ],
   "source": [
    "test_data.show(25)"
   ]
  },
  {
   "cell_type": "markdown",
   "id": "9b768e74",
   "metadata": {},
   "source": [
    "### Create Linear Regression Model"
   ]
  },
  {
   "cell_type": "code",
   "execution_count": 42,
   "id": "e30278fd",
   "metadata": {},
   "outputs": [],
   "source": [
    "model=LinearRegression(featuresCol='YearVector',labelCol='Price')"
   ]
  },
  {
   "cell_type": "markdown",
   "id": "2cf05c9e",
   "metadata": {},
   "source": [
    "### Train the  model"
   ]
  },
  {
   "cell_type": "code",
   "execution_count": 43,
   "id": "3d7b7be4",
   "metadata": {},
   "outputs": [
    {
     "name": "stdout",
     "output_type": "stream",
     "text": [
      "root\n",
      " |-- YearVector: vector (nullable = true)\n",
      " |-- Price: double (nullable = true)\n",
      "\n"
     ]
    }
   ],
   "source": [
    "train_data.printSchema()"
   ]
  },
  {
   "cell_type": "code",
   "execution_count": 44,
   "id": "755176c0",
   "metadata": {},
   "outputs": [
    {
     "name": "stdout",
     "output_type": "stream",
     "text": [
      "root\n",
      " |-- YearVector: vector (nullable = true)\n",
      " |-- Price: double (nullable = true)\n",
      "\n"
     ]
    }
   ],
   "source": [
    "test_data.printSchema()"
   ]
  },
  {
   "cell_type": "code",
   "execution_count": 45,
   "id": "c436d2c2",
   "metadata": {},
   "outputs": [
    {
     "data": {
      "text/plain": [
       "pyspark.sql.dataframe.DataFrame"
      ]
     },
     "execution_count": 45,
     "metadata": {},
     "output_type": "execute_result"
    }
   ],
   "source": [
    "type(test_data)"
   ]
  },
  {
   "cell_type": "code",
   "execution_count": 46,
   "id": "e0ab9819",
   "metadata": {},
   "outputs": [],
   "source": [
    "model=model.fit(train_data)"
   ]
  },
  {
   "cell_type": "code",
   "execution_count": 47,
   "id": "17434b68",
   "metadata": {},
   "outputs": [
    {
     "name": "stdout",
     "output_type": "stream",
     "text": [
      "root\n",
      " |-- Date: date (nullable = true)\n",
      " |-- Price: double (nullable = true)\n",
      " |-- Year: integer (nullable = true)\n",
      " |-- Month: integer (nullable = true)\n",
      " |-- YearVector: vector (nullable = true)\n",
      "\n"
     ]
    }
   ],
   "source": [
    "df.printSchema()"
   ]
  },
  {
   "cell_type": "markdown",
   "id": "2a654304",
   "metadata": {},
   "source": [
    "### Check the coefficient and Intercept"
   ]
  },
  {
   "cell_type": "code",
   "execution_count": 48,
   "id": "512d8553",
   "metadata": {},
   "outputs": [
    {
     "data": {
      "text/plain": [
       "DenseVector([70.0621])"
      ]
     },
     "execution_count": 48,
     "metadata": {},
     "output_type": "execute_result"
    }
   ],
   "source": [
    "model.coefficients"
   ]
  },
  {
   "cell_type": "markdown",
   "id": "ea41732a",
   "metadata": {},
   "source": [
    "### Make Prediction with Test data"
   ]
  },
  {
   "cell_type": "code",
   "execution_count": 49,
   "id": "aaab25d7",
   "metadata": {},
   "outputs": [],
   "source": [
    "pred=model.evaluate(test_data)"
   ]
  },
  {
   "cell_type": "code",
   "execution_count": 50,
   "id": "4e963ab5",
   "metadata": {},
   "outputs": [
    {
     "name": "stdout",
     "output_type": "stream",
     "text": [
      "+----------+------+-----------------+\n",
      "|YearVector| Price|       prediction|\n",
      "+----------+------+-----------------+\n",
      "|  [2001.0]| 256.7|341.3434141326288|\n",
      "|  [2001.0]|257.05|341.3434141326288|\n",
      "|  [2001.0]|258.45|341.3434141326288|\n",
      "|  [2001.0]|258.95|341.3434141326288|\n",
      "|  [2001.0]| 260.5|341.3434141326288|\n",
      "|  [2001.0]|262.15|341.3434141326288|\n",
      "|  [2001.0]| 262.8|341.3434141326288|\n",
      "|  [2001.0]| 262.9|341.3434141326288|\n",
      "|  [2001.0]| 262.9|341.3434141326288|\n",
      "|  [2001.0]|263.35|341.3434141326288|\n",
      "|  [2001.0]|263.65|341.3434141326288|\n",
      "|  [2001.0]| 264.5|341.3434141326288|\n",
      "|  [2001.0]|265.55|341.3434141326288|\n",
      "|  [2001.0]| 266.1|341.3434141326288|\n",
      "|  [2001.0]| 266.4|341.3434141326288|\n",
      "|  [2001.0]| 266.4|341.3434141326288|\n",
      "|  [2001.0]|266.85|341.3434141326288|\n",
      "|  [2001.0]|266.85|341.3434141326288|\n",
      "|  [2001.0]|266.95|341.3434141326288|\n",
      "|  [2001.0]| 267.2|341.3434141326288|\n",
      "+----------+------+-----------------+\n",
      "only showing top 20 rows\n",
      "\n"
     ]
    }
   ],
   "source": [
    "pred.predictions.show()"
   ]
  },
  {
   "cell_type": "code",
   "execution_count": 51,
   "id": "854675ed",
   "metadata": {},
   "outputs": [
    {
     "data": {
      "text/plain": [
       "182.50849696680402"
      ]
     },
     "execution_count": 51,
     "metadata": {},
     "output_type": "execute_result"
    }
   ],
   "source": [
    "pred.meanAbsoluteError "
   ]
  },
  {
   "cell_type": "code",
   "execution_count": 52,
   "id": "e43c588b",
   "metadata": {},
   "outputs": [
    {
     "data": {
      "text/plain": [
       "56351.62443104603"
      ]
     },
     "execution_count": 52,
     "metadata": {},
     "output_type": "execute_result"
    }
   ],
   "source": [
    "pred.meanSquaredError"
   ]
  }
 ],
 "metadata": {
  "kernelspec": {
   "display_name": "Python 3 (ipykernel)",
   "language": "python",
   "name": "python3"
  },
  "language_info": {
   "codemirror_mode": {
    "name": "ipython",
    "version": 3
   },
   "file_extension": ".py",
   "mimetype": "text/x-python",
   "name": "python",
   "nbconvert_exporter": "python",
   "pygments_lexer": "ipython3",
   "version": "3.11.5"
  }
 },
 "nbformat": 4,
 "nbformat_minor": 5
}
